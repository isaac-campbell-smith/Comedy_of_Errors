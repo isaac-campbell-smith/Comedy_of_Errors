{
 "cells": [
  {
   "cell_type": "code",
   "execution_count": 1,
   "metadata": {},
   "outputs": [],
   "source": [
    "import numpy as np\n",
    "import pandas as pd\n",
    "from src.make_ratings_matrix import ratings_mat\n",
    "from pyspark.sql import SparkSession\n",
    "from pyspark.ml.recommendation import ALS\n",
    "from src.tune_ALS import tune_ALS\n",
    "from pyspark.ml.evaluation import RegressionEvaluator"
   ]
  },
  {
   "cell_type": "code",
   "execution_count": 2,
   "metadata": {},
   "outputs": [],
   "source": [
    "spark = SparkSession.builder.getOrCreate()"
   ]
  },
  {
   "cell_type": "code",
   "execution_count": 3,
   "metadata": {},
   "outputs": [],
   "source": [
    "specials = pd.read_pickle('data/working_corpus.pkl')\n",
    "reviews = pd.read_pickle('data/working_reviews.pkl')"
   ]
  },
  {
   "cell_type": "code",
   "execution_count": 4,
   "metadata": {},
   "outputs": [
    {
     "data": {
      "text/html": [
       "<div>\n",
       "<style scoped>\n",
       "    .dataframe tbody tr th:only-of-type {\n",
       "        vertical-align: middle;\n",
       "    }\n",
       "\n",
       "    .dataframe tbody tr th {\n",
       "        vertical-align: top;\n",
       "    }\n",
       "\n",
       "    .dataframe thead th {\n",
       "        text-align: right;\n",
       "    }\n",
       "</style>\n",
       "<table border=\"1\" class=\"dataframe\">\n",
       "  <thead>\n",
       "    <tr style=\"text-align: right;\">\n",
       "      <th></th>\n",
       "      <th>user</th>\n",
       "      <th>special</th>\n",
       "      <th>rating</th>\n",
       "    </tr>\n",
       "  </thead>\n",
       "  <tbody>\n",
       "    <tr>\n",
       "      <th>0</th>\n",
       "      <td>0</td>\n",
       "      <td>1</td>\n",
       "      <td>8</td>\n",
       "    </tr>\n",
       "    <tr>\n",
       "      <th>1</th>\n",
       "      <td>0</td>\n",
       "      <td>9</td>\n",
       "      <td>7</td>\n",
       "    </tr>\n",
       "    <tr>\n",
       "      <th>2</th>\n",
       "      <td>0</td>\n",
       "      <td>11</td>\n",
       "      <td>8</td>\n",
       "    </tr>\n",
       "    <tr>\n",
       "      <th>3</th>\n",
       "      <td>0</td>\n",
       "      <td>23</td>\n",
       "      <td>7</td>\n",
       "    </tr>\n",
       "    <tr>\n",
       "      <th>4</th>\n",
       "      <td>1</td>\n",
       "      <td>1</td>\n",
       "      <td>10</td>\n",
       "    </tr>\n",
       "  </tbody>\n",
       "</table>\n",
       "</div>"
      ],
      "text/plain": [
       "  user special rating\n",
       "0    0       1      8\n",
       "1    0       9      7\n",
       "2    0      11      8\n",
       "3    0      23      7\n",
       "4    1       1     10"
      ]
     },
     "execution_count": 4,
     "metadata": {},
     "output_type": "execute_result"
    }
   ],
   "source": [
    "ratings_matrix = ratings_mat(specials.special, reviews)\n",
    "ratings_matrix.head()"
   ]
  },
  {
   "cell_type": "code",
   "execution_count": 5,
   "metadata": {},
   "outputs": [],
   "source": [
    "spark_df = spark.createDataFrame(ratings_matrix) "
   ]
  },
  {
   "cell_type": "code",
   "execution_count": 6,
   "metadata": {},
   "outputs": [],
   "source": [
    "train, test = spark_df.randomSplit([0.8, 0.2], seed=40)"
   ]
  },
  {
   "cell_type": "code",
   "execution_count": 36,
   "metadata": {},
   "outputs": [],
   "source": [
    "als_model = ALS(\n",
    "    itemCol='special',\n",
    "    userCol='user',\n",
    "    ratingCol='rating',\n",
    "    nonnegative=True,    \n",
    "    regParam=0.01,\n",
    "    rank=30)"
   ]
  },
  {
   "cell_type": "code",
   "execution_count": 37,
   "metadata": {},
   "outputs": [],
   "source": [
    "recommender = als_model.fit(train)"
   ]
  },
  {
   "cell_type": "code",
   "execution_count": 240,
   "metadata": {
    "collapsed": true,
    "jupyter": {
     "outputs_hidden": true,
     "source_hidden": true
    }
   },
   "outputs": [
    {
     "name": "stdout",
     "output_type": "stream",
     "text": [
      "+---+-------------------------------------------------------------------------------------------------------------------------+\n",
      "|id |features                                                                                                                 |\n",
      "+---+-------------------------------------------------------------------------------------------------------------------------+\n",
      "|20 |[0.34923708, 1.6664461, 0.074719876, 1.4723135, 0.22537419, 1.2435533, 2.9566746, 0.43188784, 0.8410027, 0.92549103]     |\n",
      "|30 |[1.0550938, 0.0034411687, 3.1768355, 1.1541634, 2.1262522, 2.0369828, 1.5203419, 1.2501311, 0.64875495, 0.85094464]      |\n",
      "|40 |[0.0, 0.042460997, 1.6783029, 0.0, 0.9817157, 0.0, 2.093574, 0.46535543, 0.45538154, 0.6615584]                          |\n",
      "|50 |[0.40841138, 0.18559955, 0.010831924, 1.8808203, 0.20633054, 0.32492447, 0.27824232, 0.017448524, 0.9464973, 0.004169744]|\n",
      "|90 |[0.037490472, 2.5626118, 0.015014985, 1.029662, 0.031145398, 0.3210286, 0.6271866, 0.74002796, 0.017348183, 0.706845]    |\n",
      "+---+-------------------------------------------------------------------------------------------------------------------------+\n",
      "only showing top 5 rows\n",
      "\n"
     ]
    }
   ],
   "source": [
    "recommender.itemFactors.show(n=5, truncate=False)"
   ]
  },
  {
   "cell_type": "code",
   "execution_count": 241,
   "metadata": {
    "collapsed": true,
    "jupyter": {
     "outputs_hidden": true,
     "source_hidden": true
    }
   },
   "outputs": [
    {
     "data": {
      "text/plain": [
       "[Row(id=0, features=[0.7320649027824402, 0.809018611907959, 0.14970767498016357, 1.9326555728912354, 0.0, 0.09880394488573074, 0.0, 0.43030181527137756, 0.0, 0.3539911210536957]),\n",
       " Row(id=1, features=[0.0, 0.1937619298696518, 1.2614012956619263, 0.576866626739502, 0.3101431727409363, 0.005964495241641998, 0.22311478853225708, 0.71251380443573, 0.3658820390701294, 1.681159257888794]),\n",
       " Row(id=3, features=[0.0, 0.0, 2.3275201320648193, 0.6012542843818665, 0.0, 0.0, 0.0, 1.3192421197891235, 0.0, 0.8234591484069824]),\n",
       " Row(id=4, features=[0.0, 0.1937619298696518, 1.2614012956619263, 0.576866626739502, 0.3101431727409363, 0.005964495241641998, 0.22311478853225708, 0.71251380443573, 0.3658820390701294, 1.681159257888794]),\n",
       " Row(id=5, features=[0.0, 0.17438572645187378, 1.1352611780166626, 0.5191799402236938, 0.2791288495063782, 0.005368045996874571, 0.20080330967903137, 0.641262412071228, 0.3292938470840454, 1.5130434036254883])]"
      ]
     },
     "execution_count": 241,
     "metadata": {},
     "output_type": "execute_result"
    }
   ],
   "source": [
    "sorted(recommender.userFactors.collect())[:5]"
   ]
  },
  {
   "cell_type": "code",
   "execution_count": 242,
   "metadata": {
    "collapsed": true,
    "jupyter": {
     "outputs_hidden": true,
     "source_hidden": true
    }
   },
   "outputs": [
    {
     "name": "stdout",
     "output_type": "stream",
     "text": [
      "+---------------------------------------------------------------------------------------------------------------+\n",
      "|features                                                                                                       |\n",
      "+---------------------------------------------------------------------------------------------------------------+\n",
      "|[0.7320649, 0.8090186, 0.14970767, 1.9326556, 0.0, 0.098803945, 0.0, 0.43030182, 0.0, 0.35399112]              |\n",
      "|[0.0, 0.19376193, 1.2614013, 0.5768666, 0.31014317, 0.0059644952, 0.22311479, 0.7125138, 0.36588204, 1.6811593]|\n",
      "|[0.0, 0.0, 2.3275201, 0.6012543, 0.0, 0.0, 0.0, 1.3192421, 0.0, 0.82345915]                                    |\n",
      "|[0.0, 0.19376193, 1.2614013, 0.5768666, 0.31014317, 0.0059644952, 0.22311479, 0.7125138, 0.36588204, 1.6811593]|\n",
      "|[0.0, 0.17438573, 1.1352612, 0.51917994, 0.27912885, 0.005368046, 0.20080331, 0.6412624, 0.32929385, 1.5130434]|\n",
      "+---------------------------------------------------------------------------------------------------------------+\n",
      "only showing top 5 rows\n",
      "\n"
     ]
    }
   ],
   "source": [
    "recommender.userFactors.orderBy('id').select('features').show(n=5, truncate=False)"
   ]
  },
  {
   "cell_type": "code",
   "execution_count": 72,
   "metadata": {},
   "outputs": [],
   "source": [
    "predicted_ratings = recommender.transform(train)"
   ]
  },
  {
   "cell_type": "code",
   "execution_count": 92,
   "metadata": {},
   "outputs": [
    {
     "data": {
      "text/plain": [
       "3.7443359358977157"
      ]
     },
     "execution_count": 92,
     "metadata": {},
     "output_type": "execute_result"
    }
   ],
   "source": [
    "evaluator = RegressionEvaluator(metricName=\"rmse\",\n",
    "                                labelCol=\"rating\",\n",
    "                                predictionCol=\"prediction\")\n",
    "rmse = evaluator.evaluate(predicted_ratings)\n",
    "rmse"
   ]
  },
  {
   "cell_type": "code",
   "execution_count": 94,
   "metadata": {},
   "outputs": [
    {
     "name": "stdout",
     "output_type": "stream",
     "text": [
      "+----+-------+------+----------+\n",
      "|user|special|rating|prediction|\n",
      "+----+-------+------+----------+\n",
      "|2052|    148|    10|       NaN|\n",
      "+----+-------+------+----------+\n",
      "\n"
     ]
    }
   ],
   "source": [
    "predicted_ratings.where(predicted_ratings.user==2052).show()"
   ]
  },
  {
   "cell_type": "code",
   "execution_count": 52,
   "metadata": {},
   "outputs": [],
   "source": [
    "def get_top_n_recs(user, n=10):\n",
    "    user_subset = spark_df.where(spark_df.user == user)\n",
    "    print (type(user_subset.select()))\n",
    "    user_subset_recs = recommender.recommendForUserSubset(user_subset, 5)\n",
    "    top = user_subset_recs.select(\"recommendations.special\", \"recommendations.rating\").first()\n",
    "    recs = top[0]\n",
    "    score = top[1]\n",
    "    return recs, score"
   ]
  },
  {
   "cell_type": "code",
   "execution_count": 60,
   "metadata": {},
   "outputs": [
    {
     "data": {
      "text/html": [
       "<div>\n",
       "<style scoped>\n",
       "    .dataframe tbody tr th:only-of-type {\n",
       "        vertical-align: middle;\n",
       "    }\n",
       "\n",
       "    .dataframe tbody tr th {\n",
       "        vertical-align: top;\n",
       "    }\n",
       "\n",
       "    .dataframe thead th {\n",
       "        text-align: right;\n",
       "    }\n",
       "</style>\n",
       "<table border=\"1\" class=\"dataframe\">\n",
       "  <thead>\n",
       "    <tr style=\"text-align: right;\">\n",
       "      <th></th>\n",
       "      <th>user</th>\n",
       "      <th>special</th>\n",
       "      <th>rating</th>\n",
       "    </tr>\n",
       "  </thead>\n",
       "  <tbody>\n",
       "    <tr>\n",
       "      <th>0</th>\n",
       "      <td>3300</td>\n",
       "      <td>7</td>\n",
       "      <td>9</td>\n",
       "    </tr>\n",
       "  </tbody>\n",
       "</table>\n",
       "</div>"
      ],
      "text/plain": [
       "   user  special  rating\n",
       "0  3300        7       9"
      ]
     },
     "execution_count": 60,
     "metadata": {},
     "output_type": "execute_result"
    }
   ],
   "source": [
    "#pd.DataFrame(data={'user':[3300], 'special':[7], 'rating':[9]})\n",
    "spark_df.unionAll(input.select($\"*\", lit(\"\"), current_timestamp.cast(\"long\")))\n"
   ]
  },
  {
   "cell_type": "code",
   "execution_count": 71,
   "metadata": {},
   "outputs": [
    {
     "data": {
      "text/plain": [
       "[259, 260, 179, 15, 297]"
      ]
     },
     "execution_count": 71,
     "metadata": {},
     "output_type": "execute_result"
    }
   ],
   "source": [
    "test_subset = spark.createDataFrame(pd.DataFrame(data={'user':[300], 'special':[50], 'rating':[9]})) \n",
    "test_recs = recommender.recommendForUserSubset(test_subset,5)\n",
    "top = test_recs.select(\"recommendations.special\", \"recommendations.rating\").first()\n",
    "top[0]"
   ]
  },
  {
   "cell_type": "code",
   "execution_count": 53,
   "metadata": {},
   "outputs": [
    {
     "name": "stdout",
     "output_type": "stream",
     "text": [
      "<class 'pyspark.sql.dataframe.DataFrame'>\n"
     ]
    }
   ],
   "source": [
    "rec_1, score_1 = get_top_n_recs(1)"
   ]
  },
  {
   "cell_type": "code",
   "execution_count": 48,
   "metadata": {},
   "outputs": [
    {
     "data": {
      "text/html": [
       "<div>\n",
       "<style scoped>\n",
       "    .dataframe tbody tr th:only-of-type {\n",
       "        vertical-align: middle;\n",
       "    }\n",
       "\n",
       "    .dataframe tbody tr th {\n",
       "        vertical-align: top;\n",
       "    }\n",
       "\n",
       "    .dataframe thead th {\n",
       "        text-align: right;\n",
       "    }\n",
       "</style>\n",
       "<table border=\"1\" class=\"dataframe\">\n",
       "  <thead>\n",
       "    <tr style=\"text-align: right;\">\n",
       "      <th></th>\n",
       "      <th>special</th>\n",
       "      <th>text</th>\n",
       "      <th>lem_tokens</th>\n",
       "      <th>length</th>\n",
       "      <th>nmf_primary</th>\n",
       "      <th>nmf_secondary</th>\n",
       "      <th>kmn_cluster</th>\n",
       "      <th>MyGroups</th>\n",
       "    </tr>\n",
       "  </thead>\n",
       "  <tbody>\n",
       "    <tr>\n",
       "      <th>1</th>\n",
       "      <td>Hannah Gadsby Douglas</td>\n",
       "      <td>The following is the transcript of Hannah Gadb...</td>\n",
       "      <td>[explores, autism, affect, thinking, take, lit...</td>\n",
       "      <td>57454</td>\n",
       "      <td>7</td>\n",
       "      <td>4</td>\n",
       "      <td>2</td>\n",
       "      <td>English</td>\n",
       "    </tr>\n",
       "  </tbody>\n",
       "</table>\n",
       "</div>"
      ],
      "text/plain": [
       "                 special                                               text  \\\n",
       "1  Hannah Gadsby Douglas  The following is the transcript of Hannah Gadb...   \n",
       "\n",
       "                                          lem_tokens  length  nmf_primary  \\\n",
       "1  [explores, autism, affect, thinking, take, lit...   57454            7   \n",
       "\n",
       "   nmf_secondary  kmn_cluster MyGroups  \n",
       "1              4            2  English  "
      ]
     },
     "execution_count": 48,
     "metadata": {},
     "output_type": "execute_result"
    }
   ],
   "source": [
    "specials.loc[reviews.iloc[1][reviews.iloc[1] > 0].index]"
   ]
  },
  {
   "cell_type": "code",
   "execution_count": 49,
   "metadata": {},
   "outputs": [
    {
     "data": {
      "text/html": [
       "<div>\n",
       "<style scoped>\n",
       "    .dataframe tbody tr th:only-of-type {\n",
       "        vertical-align: middle;\n",
       "    }\n",
       "\n",
       "    .dataframe tbody tr th {\n",
       "        vertical-align: top;\n",
       "    }\n",
       "\n",
       "    .dataframe thead th {\n",
       "        text-align: right;\n",
       "    }\n",
       "</style>\n",
       "<table border=\"1\" class=\"dataframe\">\n",
       "  <thead>\n",
       "    <tr style=\"text-align: right;\">\n",
       "      <th></th>\n",
       "      <th>special</th>\n",
       "      <th>text</th>\n",
       "      <th>lem_tokens</th>\n",
       "      <th>length</th>\n",
       "      <th>nmf_primary</th>\n",
       "      <th>nmf_secondary</th>\n",
       "      <th>kmn_cluster</th>\n",
       "      <th>MyGroups</th>\n",
       "    </tr>\n",
       "  </thead>\n",
       "  <tbody>\n",
       "    <tr>\n",
       "      <th>1</th>\n",
       "      <td>Hannah Gadsby Douglas</td>\n",
       "      <td>The following is the transcript of Hannah Gadb...</td>\n",
       "      <td>[explores, autism, affect, thinking, take, lit...</td>\n",
       "      <td>57454</td>\n",
       "      <td>7</td>\n",
       "      <td>4</td>\n",
       "      <td>2</td>\n",
       "      <td>English</td>\n",
       "    </tr>\n",
       "    <tr>\n",
       "      <th>64</th>\n",
       "      <td>Eddie Murphy Raw</td>\n",
       "      <td>After achieving fame with Saturday Night Live ...</td>\n",
       "      <td>[released, film, version, one, live, performan...</td>\n",
       "      <td>73209</td>\n",
       "      <td>6</td>\n",
       "      <td>4</td>\n",
       "      <td>4</td>\n",
       "      <td>Black American</td>\n",
       "    </tr>\n",
       "    <tr>\n",
       "      <th>306</th>\n",
       "      <td>Eddie Murphy Delirious</td>\n",
       "      <td>Filmed on August 17, 1983 at DAR Constitution ...</td>\n",
       "      <td>[thank, much, two, time, far, two, time, befor...</td>\n",
       "      <td>41268</td>\n",
       "      <td>4</td>\n",
       "      <td>6</td>\n",
       "      <td>4</td>\n",
       "      <td>Black American</td>\n",
       "    </tr>\n",
       "    <tr>\n",
       "      <th>304</th>\n",
       "      <td>Bill Burr Let It Go 2010</td>\n",
       "      <td>[Quirky rock music] All right. Thank you. Than...</td>\n",
       "      <td>[very, much, thank, coming, out, here, okay, o...</td>\n",
       "      <td>39929</td>\n",
       "      <td>7</td>\n",
       "      <td>8</td>\n",
       "      <td>3</td>\n",
       "      <td>Underdogs</td>\n",
       "    </tr>\n",
       "    <tr>\n",
       "      <th>212</th>\n",
       "      <td>Chris Rock Bigger Blacker 1999</td>\n",
       "      <td>Ladies and gentlemen... live from the world-fa...</td>\n",
       "      <td>[chris, rock, whats, up, new, york, there, bro...</td>\n",
       "      <td>41112</td>\n",
       "      <td>6</td>\n",
       "      <td>4</td>\n",
       "      <td>4</td>\n",
       "      <td>Black American</td>\n",
       "    </tr>\n",
       "    <tr>\n",
       "      <th>298</th>\n",
       "      <td>Richard Pryor Live Sunset Strip 1982</td>\n",
       "      <td>Recorded at the Circle Star Theater in San Car...</td>\n",
       "      <td>[california, lady, live, sunset, strip, richar...</td>\n",
       "      <td>48456</td>\n",
       "      <td>5</td>\n",
       "      <td>7</td>\n",
       "      <td>4</td>\n",
       "      <td>Black American</td>\n",
       "    </tr>\n",
       "    <tr>\n",
       "      <th>264</th>\n",
       "      <td>Bill Hicks Revelations 1993</td>\n",
       "      <td>Recorded at the London Dominion Theatre in Nov...</td>\n",
       "      <td>[moon, fx, howling, wolf, cut, black, slab, lo...</td>\n",
       "      <td>44231</td>\n",
       "      <td>2</td>\n",
       "      <td>7</td>\n",
       "      <td>2</td>\n",
       "      <td>English</td>\n",
       "    </tr>\n",
       "    <tr>\n",
       "      <th>297</th>\n",
       "      <td>Richard Pryor Live Concert 1979</td>\n",
       "      <td>Filmed in Long Beach, California on December 1...</td>\n",
       "      <td>[motor, squeaking, brake, car, door, open, car...</td>\n",
       "      <td>51845</td>\n",
       "      <td>7</td>\n",
       "      <td>3</td>\n",
       "      <td>4</td>\n",
       "      <td>Black American</td>\n",
       "    </tr>\n",
       "    <tr>\n",
       "      <th>57</th>\n",
       "      <td>Adam Devine Best Time Of Our Lives</td>\n",
       "      <td>[rock music playing] [indistinct chatter] Hey,...</td>\n",
       "      <td>[man, lady, adam, devine, loud, hey, hows, eve...</td>\n",
       "      <td>46985</td>\n",
       "      <td>8</td>\n",
       "      <td>4</td>\n",
       "      <td>3</td>\n",
       "      <td>Morbid</td>\n",
       "    </tr>\n",
       "    <tr>\n",
       "      <th>283</th>\n",
       "      <td>Louis C K Shameless 2007</td>\n",
       "      <td>Please welcome Louis C.K.! Thank you. Thank yo...</td>\n",
       "      <td>[nice, hello, everybody, ya, woo, good, thanks...</td>\n",
       "      <td>47405</td>\n",
       "      <td>8</td>\n",
       "      <td>7</td>\n",
       "      <td>3</td>\n",
       "      <td>Morbid</td>\n",
       "    </tr>\n",
       "  </tbody>\n",
       "</table>\n",
       "</div>"
      ],
      "text/plain": [
       "                                  special  \\\n",
       "1                   Hannah Gadsby Douglas   \n",
       "64                       Eddie Murphy Raw   \n",
       "306                Eddie Murphy Delirious   \n",
       "304              Bill Burr Let It Go 2010   \n",
       "212        Chris Rock Bigger Blacker 1999   \n",
       "298  Richard Pryor Live Sunset Strip 1982   \n",
       "264           Bill Hicks Revelations 1993   \n",
       "297       Richard Pryor Live Concert 1979   \n",
       "57     Adam Devine Best Time Of Our Lives   \n",
       "283              Louis C K Shameless 2007   \n",
       "\n",
       "                                                  text  \\\n",
       "1    The following is the transcript of Hannah Gadb...   \n",
       "64   After achieving fame with Saturday Night Live ...   \n",
       "306  Filmed on August 17, 1983 at DAR Constitution ...   \n",
       "304  [Quirky rock music] All right. Thank you. Than...   \n",
       "212  Ladies and gentlemen... live from the world-fa...   \n",
       "298  Recorded at the Circle Star Theater in San Car...   \n",
       "264  Recorded at the London Dominion Theatre in Nov...   \n",
       "297  Filmed in Long Beach, California on December 1...   \n",
       "57   [rock music playing] [indistinct chatter] Hey,...   \n",
       "283  Please welcome Louis C.K.! Thank you. Thank yo...   \n",
       "\n",
       "                                            lem_tokens  length  nmf_primary  \\\n",
       "1    [explores, autism, affect, thinking, take, lit...   57454            7   \n",
       "64   [released, film, version, one, live, performan...   73209            6   \n",
       "306  [thank, much, two, time, far, two, time, befor...   41268            4   \n",
       "304  [very, much, thank, coming, out, here, okay, o...   39929            7   \n",
       "212  [chris, rock, whats, up, new, york, there, bro...   41112            6   \n",
       "298  [california, lady, live, sunset, strip, richar...   48456            5   \n",
       "264  [moon, fx, howling, wolf, cut, black, slab, lo...   44231            2   \n",
       "297  [motor, squeaking, brake, car, door, open, car...   51845            7   \n",
       "57   [man, lady, adam, devine, loud, hey, hows, eve...   46985            8   \n",
       "283  [nice, hello, everybody, ya, woo, good, thanks...   47405            8   \n",
       "\n",
       "     nmf_secondary  kmn_cluster        MyGroups  \n",
       "1                4            2         English  \n",
       "64               4            4  Black American  \n",
       "306              6            4  Black American  \n",
       "304              8            3       Underdogs  \n",
       "212              4            4  Black American  \n",
       "298              7            4  Black American  \n",
       "264              7            2         English  \n",
       "297              3            4  Black American  \n",
       "57               4            3          Morbid  \n",
       "283              7            3          Morbid  "
      ]
     },
     "execution_count": 49,
     "metadata": {},
     "output_type": "execute_result"
    }
   ],
   "source": [
    "specials.loc[rec_1]"
   ]
  },
  {
   "cell_type": "code",
   "execution_count": 248,
   "metadata": {},
   "outputs": [
    {
     "data": {
      "text/plain": [
       "[11.169456481933594,\n",
       " 10.043525695800781,\n",
       " 9.943931579589844,\n",
       " 9.885990142822266,\n",
       " 9.87508773803711,\n",
       " 8.96638298034668,\n",
       " 8.952198028564453,\n",
       " 8.79509162902832,\n",
       " 8.579977035522461,\n",
       " 8.243208885192871]"
      ]
     },
     "execution_count": 248,
     "metadata": {},
     "output_type": "execute_result"
    }
   ],
   "source": [
    "score_1"
   ]
  },
  {
   "cell_type": "code",
   "execution_count": 264,
   "metadata": {},
   "outputs": [],
   "source": [
    "u = 400\n",
    "rec_400, score_400 = get_top_n_recs(u)"
   ]
  },
  {
   "cell_type": "code",
   "execution_count": 305,
   "metadata": {},
   "outputs": [
    {
     "data": {
      "text/html": [
       "<div>\n",
       "<style scoped>\n",
       "    .dataframe tbody tr th:only-of-type {\n",
       "        vertical-align: middle;\n",
       "    }\n",
       "\n",
       "    .dataframe tbody tr th {\n",
       "        vertical-align: top;\n",
       "    }\n",
       "\n",
       "    .dataframe thead th {\n",
       "        text-align: right;\n",
       "    }\n",
       "</style>\n",
       "<table border=\"1\" class=\"dataframe\">\n",
       "  <thead>\n",
       "    <tr style=\"text-align: right;\">\n",
       "      <th></th>\n",
       "      <th>special</th>\n",
       "      <th>text</th>\n",
       "      <th>lem_tokens</th>\n",
       "      <th>length</th>\n",
       "    </tr>\n",
       "  </thead>\n",
       "  <tbody>\n",
       "    <tr>\n",
       "      <th>61</th>\n",
       "      <td>Wanda Sykes Not Normal</td>\n",
       "      <td>Ladies and gentlemen... Wanda Sykes! Yes. Yes....</td>\n",
       "      <td>[goodness, start, saying, voted, trump, came, ...</td>\n",
       "      <td>34694</td>\n",
       "    </tr>\n",
       "  </tbody>\n",
       "</table>\n",
       "</div>"
      ],
      "text/plain": [
       "                   special                                               text  \\\n",
       "61  Wanda Sykes Not Normal  Ladies and gentlemen... Wanda Sykes! Yes. Yes....   \n",
       "\n",
       "                                           lem_tokens  length  \n",
       "61  [goodness, start, saying, voted, trump, came, ...   34694  "
      ]
     },
     "execution_count": 305,
     "metadata": {},
     "output_type": "execute_result"
    }
   ],
   "source": [
    "specials.loc[reviews.iloc[u][reviews.iloc[u] > 0].index]"
   ]
  },
  {
   "cell_type": "code",
   "execution_count": 266,
   "metadata": {},
   "outputs": [
    {
     "data": {
      "text/html": [
       "<div>\n",
       "<style scoped>\n",
       "    .dataframe tbody tr th:only-of-type {\n",
       "        vertical-align: middle;\n",
       "    }\n",
       "\n",
       "    .dataframe tbody tr th {\n",
       "        vertical-align: top;\n",
       "    }\n",
       "\n",
       "    .dataframe thead th {\n",
       "        text-align: right;\n",
       "    }\n",
       "</style>\n",
       "<table border=\"1\" class=\"dataframe\">\n",
       "  <thead>\n",
       "    <tr style=\"text-align: right;\">\n",
       "      <th></th>\n",
       "      <th>special</th>\n",
       "      <th>text</th>\n",
       "      <th>lem_tokens</th>\n",
       "      <th>length</th>\n",
       "    </tr>\n",
       "  </thead>\n",
       "  <tbody>\n",
       "    <tr>\n",
       "      <th>244</th>\n",
       "      <td>Jim Jefferies Alcoholocaust 2010</td>\n",
       "      <td>[Horn honks] [Indistinct conversations] [scatt...</td>\n",
       "      <td>[speaking, indistinctly, laugh, laugh, cue, st...</td>\n",
       "      <td>42062</td>\n",
       "    </tr>\n",
       "    <tr>\n",
       "      <th>99</th>\n",
       "      <td>Mo Amer The Vagabond</td>\n",
       "      <td>A NETFLIX ORIGINAL COMEDY SPECIAL [audience ch...</td>\n",
       "      <td>[mo, mo, mo, mo, mo, mo, mo, chanting, speed, ...</td>\n",
       "      <td>46487</td>\n",
       "    </tr>\n",
       "    <tr>\n",
       "      <th>30</th>\n",
       "      <td>Dan Soder Son Of A Gary</td>\n",
       "      <td>Announcer: Ladies and gentlemen, Dan Soder! (c...</td>\n",
       "      <td>[wha, ah, right, right, continues, thank, righ...</td>\n",
       "      <td>50394</td>\n",
       "    </tr>\n",
       "    <tr>\n",
       "      <th>73</th>\n",
       "      <td>Nate Bargatze The Tennessee Kid</td>\n",
       "      <td>Please welcome my daddy, Nate Bargatze. Were d...</td>\n",
       "      <td>[guy, coming, out, appreciate, uh, im, very, e...</td>\n",
       "      <td>50699</td>\n",
       "    </tr>\n",
       "    <tr>\n",
       "      <th>281</th>\n",
       "      <td>Jim Jefferies I Swear God 2009</td>\n",
       "      <td>Ladies and gentlemen, Mr. Jim Jefferies. Hey. ...</td>\n",
       "      <td>[im, australia, ive, living, uk, past, 7, 8, y...</td>\n",
       "      <td>38651</td>\n",
       "    </tr>\n",
       "    <tr>\n",
       "      <th>274</th>\n",
       "      <td>Tom Segura Completely Normal 2014</td>\n",
       "      <td>Ladies and gentlemen, Tom Segura! [Cheers and ...</td>\n",
       "      <td>[hope, live, up, expectation, realized, today,...</td>\n",
       "      <td>60252</td>\n",
       "    </tr>\n",
       "    <tr>\n",
       "      <th>161</th>\n",
       "      <td>Brian Regan Standing Up 2007</td>\n",
       "      <td>[Rock] [crowd cheering] [man] lets give a big...</td>\n",
       "      <td>[regan, crowd, roar, right, thank, thank, than...</td>\n",
       "      <td>25739</td>\n",
       "    </tr>\n",
       "    <tr>\n",
       "      <th>303</th>\n",
       "      <td>Tom Segura Mostly Stories 2016</td>\n",
       "      <td>[soft piano music plays] [Tom] I love being a ...</td>\n",
       "      <td>[job, world, love, being, l.a., comic, bam, al...</td>\n",
       "      <td>54043</td>\n",
       "    </tr>\n",
       "    <tr>\n",
       "      <th>150</th>\n",
       "      <td>Stewart Lee 90s Comedian 2006</td>\n",
       "      <td>Recorded on 10 March 2006 at Chapter Arts, Can...</td>\n",
       "      <td>[mile, davis, kind, blue, voice, please, welco...</td>\n",
       "      <td>54219</td>\n",
       "    </tr>\n",
       "    <tr>\n",
       "      <th>226</th>\n",
       "      <td>Jen Kirkman Just Keep Livin 2017</td>\n",
       "      <td>Hello. I should use a microphone, really. Hi. ...</td>\n",
       "      <td>[perfect, amount, didnt, stand, here, awkwardl...</td>\n",
       "      <td>63188</td>\n",
       "    </tr>\n",
       "  </tbody>\n",
       "</table>\n",
       "</div>"
      ],
      "text/plain": [
       "                               special  \\\n",
       "244   Jim Jefferies Alcoholocaust 2010   \n",
       "99                Mo Amer The Vagabond   \n",
       "30             Dan Soder Son Of A Gary   \n",
       "73     Nate Bargatze The Tennessee Kid   \n",
       "281     Jim Jefferies I Swear God 2009   \n",
       "274  Tom Segura Completely Normal 2014   \n",
       "161       Brian Regan Standing Up 2007   \n",
       "303     Tom Segura Mostly Stories 2016   \n",
       "150      Stewart Lee 90s Comedian 2006   \n",
       "226   Jen Kirkman Just Keep Livin 2017   \n",
       "\n",
       "                                                  text  \\\n",
       "244  [Horn honks] [Indistinct conversations] [scatt...   \n",
       "99   A NETFLIX ORIGINAL COMEDY SPECIAL [audience ch...   \n",
       "30   Announcer: Ladies and gentlemen, Dan Soder! (c...   \n",
       "73   Please welcome my daddy, Nate Bargatze. Were d...   \n",
       "281  Ladies and gentlemen, Mr. Jim Jefferies. Hey. ...   \n",
       "274  Ladies and gentlemen, Tom Segura! [Cheers and ...   \n",
       "161   [Rock] [crowd cheering] [man] lets give a big...   \n",
       "303  [soft piano music plays] [Tom] I love being a ...   \n",
       "150  Recorded on 10 March 2006 at Chapter Arts, Can...   \n",
       "226  Hello. I should use a microphone, really. Hi. ...   \n",
       "\n",
       "                                            lem_tokens  length  \n",
       "244  [speaking, indistinctly, laugh, laugh, cue, st...   42062  \n",
       "99   [mo, mo, mo, mo, mo, mo, mo, chanting, speed, ...   46487  \n",
       "30   [wha, ah, right, right, continues, thank, righ...   50394  \n",
       "73   [guy, coming, out, appreciate, uh, im, very, e...   50699  \n",
       "281  [im, australia, ive, living, uk, past, 7, 8, y...   38651  \n",
       "274  [hope, live, up, expectation, realized, today,...   60252  \n",
       "161  [regan, crowd, roar, right, thank, thank, than...   25739  \n",
       "303  [job, world, love, being, l.a., comic, bam, al...   54043  \n",
       "150  [mile, davis, kind, blue, voice, please, welco...   54219  \n",
       "226  [perfect, amount, didnt, stand, here, awkwardl...   63188  "
      ]
     },
     "execution_count": 266,
     "metadata": {},
     "output_type": "execute_result"
    }
   ],
   "source": [
    "specials.loc[rec_400]"
   ]
  },
  {
   "cell_type": "code",
   "execution_count": 320,
   "metadata": {},
   "outputs": [
    {
     "data": {
      "text/plain": [
       "[19.650373458862305,\n",
       " 18.51471710205078,\n",
       " 18.08068084716797,\n",
       " 17.754409790039062,\n",
       " 17.488510131835938,\n",
       " 17.422710418701172,\n",
       " 17.04161262512207,\n",
       " 16.441139221191406,\n",
       " 16.422990798950195,\n",
       " 15.99198055267334]"
      ]
     },
     "execution_count": 320,
     "metadata": {},
     "output_type": "execute_result"
    }
   ],
   "source": [
    "score_400"
   ]
  },
  {
   "cell_type": "code",
   "execution_count": 316,
   "metadata": {},
   "outputs": [
    {
     "data": {
      "text/html": [
       "<div>\n",
       "<style scoped>\n",
       "    .dataframe tbody tr th:only-of-type {\n",
       "        vertical-align: middle;\n",
       "    }\n",
       "\n",
       "    .dataframe tbody tr th {\n",
       "        vertical-align: top;\n",
       "    }\n",
       "\n",
       "    .dataframe thead th {\n",
       "        text-align: right;\n",
       "    }\n",
       "</style>\n",
       "<table border=\"1\" class=\"dataframe\">\n",
       "  <thead>\n",
       "    <tr style=\"text-align: right;\">\n",
       "      <th></th>\n",
       "      <th>special</th>\n",
       "      <th>text</th>\n",
       "      <th>lem_tokens</th>\n",
       "      <th>length</th>\n",
       "    </tr>\n",
       "  </thead>\n",
       "  <tbody>\n",
       "    <tr>\n",
       "      <th>120</th>\n",
       "      <td>Iliza Shlesinger Confirmed Kills</td>\n",
       "      <td>Chicago, are you ready? Party goblins, are you...</td>\n",
       "      <td>[thank, thank, having, id, discus, something, ...</td>\n",
       "      <td>59055</td>\n",
       "    </tr>\n",
       "  </tbody>\n",
       "</table>\n",
       "</div>"
      ],
      "text/plain": [
       "                              special  \\\n",
       "120  Iliza Shlesinger Confirmed Kills   \n",
       "\n",
       "                                                  text  \\\n",
       "120  Chicago, are you ready? Party goblins, are you...   \n",
       "\n",
       "                                            lem_tokens  length  \n",
       "120  [thank, thank, having, id, discus, something, ...   59055  "
      ]
     },
     "execution_count": 316,
     "metadata": {},
     "output_type": "execute_result"
    }
   ],
   "source": [
    "u = 1780\n",
    "specials.loc[reviews.iloc[u][reviews.iloc[u] > 0].index]"
   ]
  },
  {
   "cell_type": "code",
   "execution_count": 317,
   "metadata": {},
   "outputs": [],
   "source": [
    "rec_1780, score_1780 = get_top_n_recs(u)"
   ]
  },
  {
   "cell_type": "code",
   "execution_count": 318,
   "metadata": {},
   "outputs": [
    {
     "data": {
      "text/html": [
       "<div>\n",
       "<style scoped>\n",
       "    .dataframe tbody tr th:only-of-type {\n",
       "        vertical-align: middle;\n",
       "    }\n",
       "\n",
       "    .dataframe tbody tr th {\n",
       "        vertical-align: top;\n",
       "    }\n",
       "\n",
       "    .dataframe thead th {\n",
       "        text-align: right;\n",
       "    }\n",
       "</style>\n",
       "<table border=\"1\" class=\"dataframe\">\n",
       "  <thead>\n",
       "    <tr style=\"text-align: right;\">\n",
       "      <th></th>\n",
       "      <th>special</th>\n",
       "      <th>text</th>\n",
       "      <th>lem_tokens</th>\n",
       "      <th>length</th>\n",
       "    </tr>\n",
       "  </thead>\n",
       "  <tbody>\n",
       "    <tr>\n",
       "      <th>112</th>\n",
       "      <td>Daniel Sloss Jigsaw</td>\n",
       "      <td>[audience cheering] [announcer] Ladies and gen...</td>\n",
       "      <td>[up, show, not, joke, question, id, answer, ho...</td>\n",
       "      <td>50170</td>\n",
       "    </tr>\n",
       "    <tr>\n",
       "      <th>267</th>\n",
       "      <td>Doug Stanhope Deadbeat Hero 2004</td>\n",
       "      <td>Liberty\\n1a.The condition of being free from r...</td>\n",
       "      <td>[act, believe, express, oneself, manner, one, ...</td>\n",
       "      <td>57711</td>\n",
       "    </tr>\n",
       "    <tr>\n",
       "      <th>119</th>\n",
       "      <td>Rowan Atkinson Live 1992</td>\n",
       "      <td>Filmed in Boston, Massachusetts, at the Huntin...</td>\n",
       "      <td>[rowan, atkinson, performing, series, comedy, ...</td>\n",
       "      <td>29935</td>\n",
       "    </tr>\n",
       "    <tr>\n",
       "      <th>115</th>\n",
       "      <td>Bert Kreischer Secret Time</td>\n",
       "      <td>[applause] [male presenter] Ladies and gentlem...</td>\n",
       "      <td>[applauding, crowd, louder, oh, yes, crowd, ye...</td>\n",
       "      <td>44408</td>\n",
       "    </tr>\n",
       "    <tr>\n",
       "      <th>297</th>\n",
       "      <td>Richard Pryor Live Concert 1979</td>\n",
       "      <td>Filmed in Long Beach, California on December 1...</td>\n",
       "      <td>[distant, car, motor, squeaking, brake, car, d...</td>\n",
       "      <td>51845</td>\n",
       "    </tr>\n",
       "    <tr>\n",
       "      <th>284</th>\n",
       "      <td>Bill Burr Im Sorry Feel Way 2014</td>\n",
       "      <td>[cheers and applause] All right, thank you! Th...</td>\n",
       "      <td>[going, thank, pleasure, here, greater, atlant...</td>\n",
       "      <td>63558</td>\n",
       "    </tr>\n",
       "    <tr>\n",
       "      <th>209</th>\n",
       "      <td>Pablo Francisco Ouch Live San Jose 2006</td>\n",
       "      <td>Are you ready? Brokeba...homies. Thats good. I...</td>\n",
       "      <td>[right, here, go, thats, three, alright, hey, ...</td>\n",
       "      <td>34026</td>\n",
       "    </tr>\n",
       "    <tr>\n",
       "      <th>95</th>\n",
       "      <td>Jeff Foxworthy Totally Committed</td>\n",
       "      <td>Ladies and gentlemen, please welcome Jeff Foxw...</td>\n",
       "      <td>[cincinnati, special, city, special, night, sp...</td>\n",
       "      <td>40068</td>\n",
       "    </tr>\n",
       "    <tr>\n",
       "      <th>150</th>\n",
       "      <td>Stewart Lee 90s Comedian 2006</td>\n",
       "      <td>Recorded on 10 March 2006 at Chapter Arts, Can...</td>\n",
       "      <td>[mile, davis, kind, blue, voice, please, welco...</td>\n",
       "      <td>54219</td>\n",
       "    </tr>\n",
       "    <tr>\n",
       "      <th>154</th>\n",
       "      <td>Chris Rock Bring Pain</td>\n",
       "      <td>Live from the Takoma Theatre in Washington D.C...</td>\n",
       "      <td>[give, mr., chris, rock, washington, d.c., cho...</td>\n",
       "      <td>41563</td>\n",
       "    </tr>\n",
       "  </tbody>\n",
       "</table>\n",
       "</div>"
      ],
      "text/plain": [
       "                                     special  \\\n",
       "112                      Daniel Sloss Jigsaw   \n",
       "267         Doug Stanhope Deadbeat Hero 2004   \n",
       "119                 Rowan Atkinson Live 1992   \n",
       "115               Bert Kreischer Secret Time   \n",
       "297          Richard Pryor Live Concert 1979   \n",
       "284         Bill Burr Im Sorry Feel Way 2014   \n",
       "209  Pablo Francisco Ouch Live San Jose 2006   \n",
       "95          Jeff Foxworthy Totally Committed   \n",
       "150            Stewart Lee 90s Comedian 2006   \n",
       "154                    Chris Rock Bring Pain   \n",
       "\n",
       "                                                  text  \\\n",
       "112  [audience cheering] [announcer] Ladies and gen...   \n",
       "267  Liberty\\n1a.The condition of being free from r...   \n",
       "119  Filmed in Boston, Massachusetts, at the Huntin...   \n",
       "115  [applause] [male presenter] Ladies and gentlem...   \n",
       "297  Filmed in Long Beach, California on December 1...   \n",
       "284  [cheers and applause] All right, thank you! Th...   \n",
       "209  Are you ready? Brokeba...homies. Thats good. I...   \n",
       "95   Ladies and gentlemen, please welcome Jeff Foxw...   \n",
       "150  Recorded on 10 March 2006 at Chapter Arts, Can...   \n",
       "154  Live from the Takoma Theatre in Washington D.C...   \n",
       "\n",
       "                                            lem_tokens  length  \n",
       "112  [up, show, not, joke, question, id, answer, ho...   50170  \n",
       "267  [act, believe, express, oneself, manner, one, ...   57711  \n",
       "119  [rowan, atkinson, performing, series, comedy, ...   29935  \n",
       "115  [applauding, crowd, louder, oh, yes, crowd, ye...   44408  \n",
       "297  [distant, car, motor, squeaking, brake, car, d...   51845  \n",
       "284  [going, thank, pleasure, here, greater, atlant...   63558  \n",
       "209  [right, here, go, thats, three, alright, hey, ...   34026  \n",
       "95   [cincinnati, special, city, special, night, sp...   40068  \n",
       "150  [mile, davis, kind, blue, voice, please, welco...   54219  \n",
       "154  [give, mr., chris, rock, washington, d.c., cho...   41563  "
      ]
     },
     "execution_count": 318,
     "metadata": {},
     "output_type": "execute_result"
    }
   ],
   "source": [
    "specials.loc[rec_1780]"
   ]
  },
  {
   "cell_type": "code",
   "execution_count": 319,
   "metadata": {},
   "outputs": [
    {
     "data": {
      "text/plain": [
       "[3.927140951156616,\n",
       " 3.460350275039673,\n",
       " 3.1687426567077637,\n",
       " 3.143021821975708,\n",
       " 3.0785598754882812,\n",
       " 3.051854372024536,\n",
       " 3.0238850116729736,\n",
       " 2.9829797744750977,\n",
       " 2.9790704250335693,\n",
       " 2.9406094551086426]"
      ]
     },
     "execution_count": 319,
     "metadata": {},
     "output_type": "execute_result"
    }
   ],
   "source": [
    "score_1780"
   ]
  },
  {
   "cell_type": "code",
   "execution_count": 323,
   "metadata": {},
   "outputs": [
    {
     "data": {
      "text/html": [
       "<div>\n",
       "<style scoped>\n",
       "    .dataframe tbody tr th:only-of-type {\n",
       "        vertical-align: middle;\n",
       "    }\n",
       "\n",
       "    .dataframe tbody tr th {\n",
       "        vertical-align: top;\n",
       "    }\n",
       "\n",
       "    .dataframe thead th {\n",
       "        text-align: right;\n",
       "    }\n",
       "</style>\n",
       "<table border=\"1\" class=\"dataframe\">\n",
       "  <thead>\n",
       "    <tr style=\"text-align: right;\">\n",
       "      <th></th>\n",
       "      <th>special</th>\n",
       "      <th>text</th>\n",
       "      <th>lem_tokens</th>\n",
       "      <th>length</th>\n",
       "    </tr>\n",
       "  </thead>\n",
       "  <tbody>\n",
       "    <tr>\n",
       "      <th>152</th>\n",
       "      <td>Dave Attell Road Work</td>\n",
       "      <td>[Cheers and applause]  you guys ready to meet ...</td>\n",
       "      <td>[people, little, noise, here, cheer, headliner...</td>\n",
       "      <td>32799</td>\n",
       "    </tr>\n",
       "  </tbody>\n",
       "</table>\n",
       "</div>"
      ],
      "text/plain": [
       "                   special                                               text  \\\n",
       "152  Dave Attell Road Work  [Cheers and applause]  you guys ready to meet ...   \n",
       "\n",
       "                                            lem_tokens  length  \n",
       "152  [people, little, noise, here, cheer, headliner...   32799  "
      ]
     },
     "execution_count": 323,
     "metadata": {},
     "output_type": "execute_result"
    }
   ],
   "source": [
    "u = 2100\n",
    "specials.loc[reviews.iloc[u][reviews.iloc[u] > 0].index]"
   ]
  },
  {
   "cell_type": "code",
   "execution_count": 324,
   "metadata": {},
   "outputs": [
    {
     "data": {
      "text/html": [
       "<div>\n",
       "<style scoped>\n",
       "    .dataframe tbody tr th:only-of-type {\n",
       "        vertical-align: middle;\n",
       "    }\n",
       "\n",
       "    .dataframe tbody tr th {\n",
       "        vertical-align: top;\n",
       "    }\n",
       "\n",
       "    .dataframe thead th {\n",
       "        text-align: right;\n",
       "    }\n",
       "</style>\n",
       "<table border=\"1\" class=\"dataframe\">\n",
       "  <thead>\n",
       "    <tr style=\"text-align: right;\">\n",
       "      <th></th>\n",
       "      <th>special</th>\n",
       "      <th>text</th>\n",
       "      <th>lem_tokens</th>\n",
       "      <th>length</th>\n",
       "    </tr>\n",
       "  </thead>\n",
       "  <tbody>\n",
       "    <tr>\n",
       "      <th>264</th>\n",
       "      <td>Bill Hicks Revelations 1993</td>\n",
       "      <td>Recorded at the London Dominion Theatre in Nov...</td>\n",
       "      <td>[cut, moon, fx, howling, wolf, cut, black, sla...</td>\n",
       "      <td>44231</td>\n",
       "    </tr>\n",
       "    <tr>\n",
       "      <th>27</th>\n",
       "      <td>Stewart Lee Carpet Remnant World</td>\n",
       "      <td>(70s GERMAN ROCK MUSIC PLAYING) ANNOUNCER: Lad...</td>\n",
       "      <td>[stewart, lee, applauding, bit, heavy, metal, ...</td>\n",
       "      <td>83784</td>\n",
       "    </tr>\n",
       "    <tr>\n",
       "      <th>274</th>\n",
       "      <td>Tom Segura Completely Normal 2014</td>\n",
       "      <td>Ladies and gentlemen, Tom Segura! [Cheers and ...</td>\n",
       "      <td>[hope, live, up, expectation, realized, today,...</td>\n",
       "      <td>60252</td>\n",
       "    </tr>\n",
       "    <tr>\n",
       "      <th>266</th>\n",
       "      <td>Doug Stanhope Turning Gun 2012</td>\n",
       "      <td>Before Turning the Gun on Himself is the eight...</td>\n",
       "      <td>[released, november, 6, roadrunner, record, re...</td>\n",
       "      <td>47382</td>\n",
       "    </tr>\n",
       "    <tr>\n",
       "      <th>115</th>\n",
       "      <td>Bert Kreischer Secret Time</td>\n",
       "      <td>[applause] [male presenter] Ladies and gentlem...</td>\n",
       "      <td>[applauding, crowd, louder, oh, yes, crowd, ye...</td>\n",
       "      <td>44408</td>\n",
       "    </tr>\n",
       "    <tr>\n",
       "      <th>303</th>\n",
       "      <td>Tom Segura Mostly Stories 2016</td>\n",
       "      <td>[soft piano music plays] [Tom] I love being a ...</td>\n",
       "      <td>[job, world, love, being, l.a., comic, bam, al...</td>\n",
       "      <td>54043</td>\n",
       "    </tr>\n",
       "    <tr>\n",
       "      <th>119</th>\n",
       "      <td>Rowan Atkinson Live 1992</td>\n",
       "      <td>Filmed in Boston, Massachusetts, at the Huntin...</td>\n",
       "      <td>[rowan, atkinson, performing, series, comedy, ...</td>\n",
       "      <td>29935</td>\n",
       "    </tr>\n",
       "    <tr>\n",
       "      <th>169</th>\n",
       "      <td>Stewart Lee Standup Comedian</td>\n",
       "      <td>Recorded on 10 March 2005 at The Stand, Glasgo...</td>\n",
       "      <td>[evan, parker, stewart, appears, music, change...</td>\n",
       "      <td>59705</td>\n",
       "    </tr>\n",
       "    <tr>\n",
       "      <th>112</th>\n",
       "      <td>Daniel Sloss Jigsaw</td>\n",
       "      <td>[audience cheering] [announcer] Ladies and gen...</td>\n",
       "      <td>[up, show, not, joke, question, id, answer, ho...</td>\n",
       "      <td>50170</td>\n",
       "    </tr>\n",
       "    <tr>\n",
       "      <th>204</th>\n",
       "      <td>Patton Oswalt Annihilation 2017</td>\n",
       "      <td>Comedian Patton Oswalt returns to Netflix with...</td>\n",
       "      <td>[powerful, stand-up, special, dive, last, year...</td>\n",
       "      <td>48151</td>\n",
       "    </tr>\n",
       "  </tbody>\n",
       "</table>\n",
       "</div>"
      ],
      "text/plain": [
       "                               special  \\\n",
       "264        Bill Hicks Revelations 1993   \n",
       "27    Stewart Lee Carpet Remnant World   \n",
       "274  Tom Segura Completely Normal 2014   \n",
       "266     Doug Stanhope Turning Gun 2012   \n",
       "115         Bert Kreischer Secret Time   \n",
       "303     Tom Segura Mostly Stories 2016   \n",
       "119           Rowan Atkinson Live 1992   \n",
       "169       Stewart Lee Standup Comedian   \n",
       "112                Daniel Sloss Jigsaw   \n",
       "204    Patton Oswalt Annihilation 2017   \n",
       "\n",
       "                                                  text  \\\n",
       "264  Recorded at the London Dominion Theatre in Nov...   \n",
       "27   (70s GERMAN ROCK MUSIC PLAYING) ANNOUNCER: Lad...   \n",
       "274  Ladies and gentlemen, Tom Segura! [Cheers and ...   \n",
       "266  Before Turning the Gun on Himself is the eight...   \n",
       "115  [applause] [male presenter] Ladies and gentlem...   \n",
       "303  [soft piano music plays] [Tom] I love being a ...   \n",
       "119  Filmed in Boston, Massachusetts, at the Huntin...   \n",
       "169  Recorded on 10 March 2005 at The Stand, Glasgo...   \n",
       "112  [audience cheering] [announcer] Ladies and gen...   \n",
       "204  Comedian Patton Oswalt returns to Netflix with...   \n",
       "\n",
       "                                            lem_tokens  length  \n",
       "264  [cut, moon, fx, howling, wolf, cut, black, sla...   44231  \n",
       "27   [stewart, lee, applauding, bit, heavy, metal, ...   83784  \n",
       "274  [hope, live, up, expectation, realized, today,...   60252  \n",
       "266  [released, november, 6, roadrunner, record, re...   47382  \n",
       "115  [applauding, crowd, louder, oh, yes, crowd, ye...   44408  \n",
       "303  [job, world, love, being, l.a., comic, bam, al...   54043  \n",
       "119  [rowan, atkinson, performing, series, comedy, ...   29935  \n",
       "169  [evan, parker, stewart, appears, music, change...   59705  \n",
       "112  [up, show, not, joke, question, id, answer, ho...   50170  \n",
       "204  [powerful, stand-up, special, dive, last, year...   48151  "
      ]
     },
     "execution_count": 324,
     "metadata": {},
     "output_type": "execute_result"
    }
   ],
   "source": [
    "rec_2100, score_2100 = get_top_n_recs(u)\n",
    "specials.loc[rec_2100]"
   ]
  },
  {
   "cell_type": "code",
   "execution_count": 330,
   "metadata": {},
   "outputs": [
    {
     "data": {
      "text/plain": [
       "[2.5717837810516357,\n",
       " 2.5296874046325684,\n",
       " 2.3819077014923096,\n",
       " 2.2651827335357666,\n",
       " 2.153329849243164,\n",
       " 2.14890193939209,\n",
       " 2.0979442596435547,\n",
       " 2.094550132751465,\n",
       " 2.0814552307128906,\n",
       " 2.0731136798858643]"
      ]
     },
     "execution_count": 330,
     "metadata": {},
     "output_type": "execute_result"
    }
   ],
   "source": [
    "score_2100"
   ]
  },
  {
   "cell_type": "code",
   "execution_count": 331,
   "metadata": {},
   "outputs": [
    {
     "data": {
      "text/html": [
       "<div>\n",
       "<style scoped>\n",
       "    .dataframe tbody tr th:only-of-type {\n",
       "        vertical-align: middle;\n",
       "    }\n",
       "\n",
       "    .dataframe tbody tr th {\n",
       "        vertical-align: top;\n",
       "    }\n",
       "\n",
       "    .dataframe thead th {\n",
       "        text-align: right;\n",
       "    }\n",
       "</style>\n",
       "<table border=\"1\" class=\"dataframe\">\n",
       "  <thead>\n",
       "    <tr style=\"text-align: right;\">\n",
       "      <th></th>\n",
       "      <th>user</th>\n",
       "      <th>special</th>\n",
       "      <th>rating</th>\n",
       "    </tr>\n",
       "  </thead>\n",
       "  <tbody>\n",
       "    <tr>\n",
       "      <th>2759</th>\n",
       "      <td>2100</td>\n",
       "      <td>152</td>\n",
       "      <td>2</td>\n",
       "    </tr>\n",
       "  </tbody>\n",
       "</table>\n",
       "</div>"
      ],
      "text/plain": [
       "      user special rating\n",
       "2759  2100     152      2"
      ]
     },
     "execution_count": 331,
     "metadata": {},
     "output_type": "execute_result"
    }
   ],
   "source": [
    "ratings_matrix[ratings_matrix.user==2100]"
   ]
  },
  {
   "cell_type": "code",
   "execution_count": null,
   "metadata": {},
   "outputs": [],
   "source": []
  }
 ],
 "metadata": {
  "kernelspec": {
   "display_name": "Python 3",
   "language": "python",
   "name": "python3"
  },
  "language_info": {
   "codemirror_mode": {
    "name": "ipython",
    "version": 3
   },
   "file_extension": ".py",
   "mimetype": "text/x-python",
   "name": "python",
   "nbconvert_exporter": "python",
   "pygments_lexer": "ipython3",
   "version": "3.7.6"
  }
 },
 "nbformat": 4,
 "nbformat_minor": 4
}
